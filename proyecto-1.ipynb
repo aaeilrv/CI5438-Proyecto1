{
 "cells": [
  {
   "cell_type": "code",
   "execution_count": 718,
   "metadata": {},
   "outputs": [],
   "source": [
    "import pandas as pd\n",
    "import numpy as np\n",
    "import matplotlib.pyplot as p\n",
    "from itertools import combinations\n",
    "import json"
   ]
  },
  {
   "cell_type": "markdown",
   "metadata": {},
   "source": [
    "## I: Implementación"
   ]
  },
  {
   "cell_type": "markdown",
   "metadata": {},
   "source": [
    "### Calculo de error cuadrático"
   ]
  },
  {
   "cell_type": "code",
   "execution_count": 719,
   "metadata": {},
   "outputs": [],
   "source": [
    "def error_rate(w, X, Y):\n",
    "    N = X.shape[0]\n",
    "    E = 0\n",
    "    for i in range(N):\n",
    "        E += (np.dot(X[i],w) - Y[i])**2\n",
    "    return E[0]/N"
   ]
  },
  {
   "cell_type": "markdown",
   "metadata": {},
   "source": [
    "### Algoritmo de descenso de gradiente"
   ]
  },
  {
   "cell_type": "code",
   "execution_count": 720,
   "metadata": {},
   "outputs": [],
   "source": [
    "# Algoritmo de descenso de gradiente\n",
    "def gradient_descent(X, Y, weights, learning_rate):\n",
    "\n",
    "    dldw = np.zeros((len(weights), 1))\n",
    "    N = X.shape[0] # número de filas de la matriz X\n",
    "\n",
    "    # Calculo de la derivada parcial de loss con respecto a cada peso\n",
    "    for i in range(N):\n",
    "        dldw += np.transpose([X[i]]) * ((Y[i] - np.dot(X[i], weights))[0])\n",
    "\n",
    "    weights = weights + learning_rate * dldw\n",
    "    \n",
    "    return weights"
   ]
  },
  {
   "cell_type": "markdown",
   "metadata": {},
   "source": [
    "### Generacion de funcion linear aleatoria de tamaño determinado"
   ]
  },
  {
   "cell_type": "code",
   "execution_count": 721,
   "metadata": {},
   "outputs": [],
   "source": [
    "# Inicialización de Parámetros\n",
    "def generate_linear_function(size):\n",
    "    random_seed = 1\n",
    "    weight_range = 100\n",
    "    x_range = 100 \n",
    "    number_seeds = 10\n",
    "\n",
    "    np.random.seed(random_seed)   # Para que los datos sean reproducibles\n",
    "    weights = np.random.choice(np.concatenate((np.arange(-weight_range, 0), np.arange(1, weight_range+1))), size=(size, 1)) #pesos a estimar\n",
    "    X0 = np.ones((number_seeds, 1)) #parametro X0 equivalente a 1 en cada vector X add \n",
    "    X1toN = np.random.randint(1, x_range+1, size=(number_seeds, size-1))  \n",
    "    X = np.concatenate((X1toN, X0), axis=1)# X = conjunto de variables independientes\n",
    "\n",
    "    #Y = X1toN*w # + w0 que no consideramos por no ser significativa\n",
    "    Y = np.dot(X,weights) \n",
    "\n",
    "    return weights, X, Y"
   ]
  },
  {
   "cell_type": "markdown",
   "metadata": {},
   "source": [
    "### Funcion de aprendizaje"
   ]
  },
  {
   "cell_type": "code",
   "execution_count": 722,
   "metadata": {},
   "outputs": [],
   "source": [
    "def learner(X, Y, size):\n",
    "    learning_rate = 0.000002\n",
    "    max_iter = 500\n",
    "    epsilon = 0.25\n",
    "\n",
    "    w = np.ones((size,1)) #pesos iniciales\n",
    "    error = []\n",
    "    #gotten_values = []\n",
    "\n",
    "    #Iteración del algoritmo \n",
    "    for i in range(max_iter):\n",
    "        w = gradient_descent(X, Y, w, learning_rate)\n",
    "        #gotten_values.append(w)\n",
    "        err = error_rate(w, X, Y)\n",
    "        error.append(err)\n",
    "        if err < epsilon:\n",
    "            break\n",
    "    return w, error"
   ]
  },
  {
   "cell_type": "markdown",
   "metadata": {},
   "source": [
    "### Prueba de la funcion de aprendizaje con una funcion linear aleatoria"
   ]
  },
  {
   "cell_type": "code",
   "execution_count": 723,
   "metadata": {},
   "outputs": [
    {
     "data": {
      "image/png": "[encoded data removed]",
      "text/plain": [
       "<Figure size 640x480 with 1 Axes>"
      ]
     },
     "metadata": {},
     "output_type": "display_data"
    },
    {
     "name": "stdout",
     "output_type": "stream",
     "text": [
      "pesos reales: [[-63  41 -28  38  34 -21]]\n",
      "pesos estimados: [[-62.45356809  40.48222596 -28.38477663  36.84649796  34.96697683\n",
      "    0.97260028]]\n"
     ]
    }
   ],
   "source": [
    "\n",
    "size = 6\n",
    "function_weights, X, Y = generate_linear_function(size) \n",
    "w, error = learner(X, Y, size)\n",
    "\n",
    "p.plot([i+1 for i in range(len(error))], error)\n",
    "p.xlabel(\"Iteraciones\")\n",
    "p.ylabel(\"Error cuadrático\")\n",
    "p.show()\n",
    "\n",
    "print(f\"pesos reales: {np.transpose(function_weights)}\")\n",
    "print(f\"pesos estimados: {np.transpose(w)}\")"
   ]
  },
  {
   "cell_type": "markdown",
   "metadata": {},
   "source": [
    "## II: Preprocesamiento de datos"
   ]
  },
  {
   "cell_type": "code",
   "execution_count": 724,
   "metadata": {},
   "outputs": [],
   "source": [
    "# loading data\n",
    "old_df = pd.read_csv('CarDekho.csv')"
   ]
  },
  {
   "cell_type": "markdown",
   "metadata": {},
   "source": [
    "### Manejo de valores faltantes"
   ]
  },
  {
   "cell_type": "code",
   "execution_count": 725,
   "metadata": {},
   "outputs": [
    {
     "data": {
      "text/html": [
       "<div>\n",
       "<style scoped>\n",
       "    .dataframe tbody tr th:only-of-type {\n",
       "        vertical-align: middle;\n",
       "    }\n",
       "\n",
       "    .dataframe tbody tr th {\n",
       "        vertical-align: top;\n",
       "    }\n",
       "\n",
       "    .dataframe thead th {\n",
       "        text-align: right;\n",
       "    }\n",
       "</style>\n",
       "<table border=\"1\" class=\"dataframe\">\n",
       "  <thead>\n",
       "    <tr style=\"text-align: right;\">\n",
       "      <th></th>\n",
       "      <th>variable</th>\n",
       "      <th># nulos</th>\n",
       "    </tr>\n",
       "  </thead>\n",
       "  <tbody>\n",
       "    <tr>\n",
       "      <th>11</th>\n",
       "      <td>Engine</td>\n",
       "      <td>80</td>\n",
       "    </tr>\n",
       "    <tr>\n",
       "      <th>12</th>\n",
       "      <td>Max Power</td>\n",
       "      <td>80</td>\n",
       "    </tr>\n",
       "    <tr>\n",
       "      <th>13</th>\n",
       "      <td>Max Torque</td>\n",
       "      <td>80</td>\n",
       "    </tr>\n",
       "    <tr>\n",
       "      <th>14</th>\n",
       "      <td>Drivetrain</td>\n",
       "      <td>136</td>\n",
       "    </tr>\n",
       "    <tr>\n",
       "      <th>15</th>\n",
       "      <td>Length</td>\n",
       "      <td>64</td>\n",
       "    </tr>\n",
       "    <tr>\n",
       "      <th>16</th>\n",
       "      <td>Width</td>\n",
       "      <td>64</td>\n",
       "    </tr>\n",
       "    <tr>\n",
       "      <th>17</th>\n",
       "      <td>Height</td>\n",
       "      <td>64</td>\n",
       "    </tr>\n",
       "    <tr>\n",
       "      <th>18</th>\n",
       "      <td>Seating Capacity</td>\n",
       "      <td>64</td>\n",
       "    </tr>\n",
       "    <tr>\n",
       "      <th>19</th>\n",
       "      <td>Fuel Tank Capacity</td>\n",
       "      <td>113</td>\n",
       "    </tr>\n",
       "  </tbody>\n",
       "</table>\n",
       "</div>"
      ],
      "text/plain": [
       "              variable  # nulos\n",
       "11              Engine       80\n",
       "12           Max Power       80\n",
       "13          Max Torque       80\n",
       "14          Drivetrain      136\n",
       "15              Length       64\n",
       "16               Width       64\n",
       "17              Height       64\n",
       "18    Seating Capacity       64\n",
       "19  Fuel Tank Capacity      113"
      ]
     },
     "execution_count": 725,
     "metadata": {},
     "output_type": "execute_result"
    }
   ],
   "source": [
    "\n",
    "# Ver los valores nulos\n",
    "df_nulos = old_df.isnull().sum().reset_index()\n",
    "df_nulos.columns = ['variable', '# nulos']\n",
    "df_nulos = df_nulos[df_nulos['# nulos'] > 0]\n",
    "df_nulos"
   ]
  },
  {
   "cell_type": "markdown",
   "metadata": {},
   "source": [
    "De las tablas en el archivo .csv, aquellas con valores nulos son:\n",
    "* Engine\n",
    "* Max Power\n",
    "* Max Torque\n",
    "* Drivetrain\n",
    "* Length\n",
    "* Width\n",
    "* Height\n",
    "* Seaing Capacity\n",
    "* Fuel Tank Capacity\n",
    "\n",
    "En este caso, el manejo de datos faltantes se realizará de la siguiente manera:\n",
    "* **Valores numéricos:**  Se reemplazan por la mediana del atributo.\n",
    "* **Valores no numéricos:** Se reemplazan por el valor más común del atributo."
   ]
  },
  {
   "cell_type": "code",
   "execution_count": 726,
   "metadata": {},
   "outputs": [],
   "source": [
    "df = old_df\n",
    "\n",
    "# Manejo de datos faltantes para valores numéricos\n",
    "mean_length = df.loc[:, 'Length'].mean()\n",
    "mean_width = df.loc[:, 'Width'].mean()\n",
    "mean_height = df.loc[:, 'Height'].mean()\n",
    "mean_seats = df.loc[:, 'Seating Capacity'].mean()\n",
    "mean_tank = df.loc[:, 'Fuel Tank Capacity'].mean()\n",
    "\n",
    "#conversion de datos de la columna Engine a numéricos\n",
    "df['Engine'] = pd.to_numeric(df.loc[:,'Engine'].str.strip(\" cc\"), errors='coerce')\n",
    "mean_engine = df.loc[:, 'Engine'].mean()\n",
    "\n",
    "# Manejo de datos faltantes para valores categóricos\n",
    "common_drive = df.loc[:, 'Drivetrain'].value_counts().index[0]\n",
    "common_power = df.loc[:, 'Max Power'].value_counts().index[0]\n",
    "common_torque = df.loc[:, 'Max Torque'].value_counts().index[0]\n",
    "\n",
    "# Reemplazo de valores nulos\n",
    "df.loc[:, 'Length'] = df.loc[:, 'Length'].fillna(mean_length)\n",
    "df.loc[:, 'Width'] = df.loc[:, 'Width'].fillna(mean_width)\n",
    "df.loc[:, 'Height'] = df.loc[:, 'Height'].fillna(mean_height)\n",
    "df.loc[:, 'Seating Capacity'] = df.loc[:, 'Seating Capacity'].fillna(mean_seats)\n",
    "df.loc[:, 'Fuel Tank Capacity'] = df.loc[:, 'Fuel Tank Capacity'].fillna(mean_tank)\n",
    "df.loc[:, 'Drivetrain'] = df.loc[:, 'Drivetrain'].fillna(common_drive)\n",
    "df.loc[:, 'Engine'] = df.loc[:, 'Engine'].fillna(mean_engine)\n",
    "df.loc[:, 'Max Power'] = df.loc[:, 'Max Power'].fillna(common_power)\n",
    "df.loc[:, 'Max Torque'] = df.loc[:, 'Max Torque'].fillna(common_torque)"
   ]
  },
  {
   "cell_type": "markdown",
   "metadata": {},
   "source": [
    "### Normalización de los datos"
   ]
  },
  {
   "cell_type": "code",
   "execution_count": 727,
   "metadata": {},
   "outputs": [
    {
     "data": {
      "text/plain": [
       "<Axes: >"
      ]
     },
     "execution_count": 727,
     "metadata": {},
     "output_type": "execute_result"
    }
   ],
   "source": [
    "df.boxplot()"
   ]
  },
  {
   "cell_type": "markdown",
   "metadata": {},
   "source": [
    "Del boxplot, se observa que las columnas *Price* y *Kilometer* tienen valores mucho mayores que las demás variables. Por ende, se normalizan todas las columnas numéricas para que sus valores estén entre 0 y 1 y den datos más concisos."
   ]
  },
  {
   "cell_type": "code",
   "execution_count": 728,
   "metadata": {},
   "outputs": [
    {
     "data": {
      "text/plain": [
       "<Axes: >"
      ]
     },
     "execution_count": 728,
     "metadata": {},
     "output_type": "execute_result"
    }
   ],
   "source": [
    "def normalize_column(column):\n",
    "    return (column - column.min()) / (column.max() - column.min())\n",
    "\n",
    "# Normalización de datos\n",
    "df.loc[:, 'Price'] = normalize_column(df.loc[:, 'Price'])\n",
    "df.loc[:, 'Year'] = normalize_column(df.loc[:, 'Year'])\n",
    "df.loc[:, 'Kilometer'] = normalize_column(df.loc[:, 'Kilometer'])\n",
    "df.loc[:, 'Engine'] = normalize_column(df.loc[:, 'Engine'])\n",
    "df.loc[:, 'Length'] = normalize_column(df.loc[:, 'Length'])\n",
    "df.loc[:, 'Width'] = normalize_column(df.loc[:, 'Width'])\n",
    "df.loc[:, 'Height'] = normalize_column(df.loc[:, 'Height'])\n",
    "df.loc[:, 'Seating Capacity'] = normalize_column(df.loc[:, 'Seating Capacity'])\n",
    "df.loc[:, 'Fuel Tank Capacity'] = normalize_column(df.loc[:, 'Fuel Tank Capacity'])\n",
    "\n",
    "df.boxplot()"
   ]
  },
  {
   "cell_type": "markdown",
   "metadata": {},
   "source": [
    "Las columnas _Max Power_ y _Max Torque_ serán eliminadas debido a la dificultad de estandarizar estos datos como valor numérico"
   ]
  },
  {
   "cell_type": "code",
   "execution_count": 729,
   "metadata": {},
   "outputs": [],
   "source": [
    "df = df.drop('Max Power', axis=1)\n",
    "df = df.drop('Max Torque', axis=1)"
   ]
  },
  {
   "cell_type": "markdown",
   "metadata": {},
   "source": [
    "Tenemos entonces 17 atributos con los que trabajar."
   ]
  },
  {
   "cell_type": "code",
   "execution_count": 730,
   "metadata": {},
   "outputs": [
    {
     "data": {
      "text/plain": [
       "['Make',\n",
       " 'Model',\n",
       " 'Year',\n",
       " 'Kilometer',\n",
       " 'Fuel Type',\n",
       " 'Transmission',\n",
       " 'Location',\n",
       " 'Color',\n",
       " 'Owner',\n",
       " 'Seller Type',\n",
       " 'Engine',\n",
       " 'Drivetrain',\n",
       " 'Length',\n",
       " 'Width',\n",
       " 'Height',\n",
       " 'Seating Capacity',\n",
       " 'Fuel Tank Capacity']"
      ]
     },
     "execution_count": 730,
     "metadata": {},
     "output_type": "execute_result"
    }
   ],
   "source": [
    "attributes = list(df.loc[:, df.columns != \"Price\"].columns)\n",
    "attributes"
   ]
  },
  {
   "cell_type": "markdown",
   "metadata": {},
   "source": [
    "\n",
    "\n",
    "Finalmente se utiliza la función get_dummies de la librería Panda para crear nuevas $n$ columnas para cada uno de los atributos categóricos de $n$ categorías que tenemos\n",
    "\n",
    "También creamos una lista ```indexes```, que continene en cada índice $i$, los $j$ índices de las columnas dummy creadas en base a la $i$ columna de la data original, que será utilizada más adelante"
   ]
  },
  {
   "cell_type": "code",
   "execution_count": 731,
   "metadata": {},
   "outputs": [],
   "source": [
    "\n",
    "a = [ len(pd.get_dummies(df[[col]]).columns) for col in df.loc[:, df.columns != \"Price\"].columns]\n",
    "indexes = [list(range(a[0]))] + [list(range(sum(a[0:i]), sum(a[0:i]) +  a[i])) for i in range(1,len(a))]\n",
    "\n",
    "df = pd.get_dummies(df, dtype=int)"
   ]
  },
  {
   "cell_type": "markdown",
   "metadata": {},
   "source": [
    "Para mantener los valores pre-procesados guardados, creamos un nuevo csv que es con el que estaremos trabajando de aquí en adelante."
   ]
  },
  {
   "cell_type": "code",
   "execution_count": 732,
   "metadata": {},
   "outputs": [],
   "source": [
    "df.to_csv('clean_data.csv', index=False)\n",
    "df = pd.read_csv('clean_data.csv')"
   ]
  },
  {
   "cell_type": "markdown",
   "metadata": {},
   "source": [
    "## III: Entrenamiento del modelo"
   ]
  },
  {
   "cell_type": "markdown",
   "metadata": {},
   "source": [
    "### Seleccion de columnas\n",
    "\n",
    "La selección de columnas a utilizar en los vectores de ejemplo para el el entrenamiento del modelo será mediante un hiperparámetro que definirá las columnas a utilizar. \n",
    "\n",
    "Definimos un iterador que retorna todas las combinaciones de atributos de la entrada. Para ahorrar en tiempo de procesamiento, y puesto que es muy probable que con significativamente menos atributos el modelo esté subajustado, solo se considerará las combinaciones de tamaño 8 en adelante. Debe notarse que no se permutan los atributos por lo que se mantiene su orden relativo."
   ]
  },
  {
   "cell_type": "code",
   "execution_count": 741,
   "metadata": {},
   "outputs": [],
   "source": [
    "\n",
    "\n",
    "f = open(\"c8.txt\", \"r\")\n",
    "cs = json.loads(f.readline())\n",
    "f.close()\n",
    "def column_combinations(a,b):\n",
    "    #yield  [0,2,3,4,5,8,15,16]\n",
    "    for c in cs[a:b]: yield c \n",
    "# def column_combinations(N):\n",
    "#     for c_size in range(8,9):\n",
    "#         for c in (list(c) for c in combinations(range(N), c_size)):\n",
    "#             yield c"
   ]
  },
  {
   "cell_type": "markdown",
   "metadata": {},
   "source": [
    "Definimos ahora las funciones para validación cruzada y selección de modelo en base a la combinación aleatoria de atributos de entrada"
   ]
  },
  {
   "cell_type": "code",
   "execution_count": 734,
   "metadata": {},
   "outputs": [],
   "source": [
    "\n",
    "def model_selection(X, Y, k, a, b):\n",
    "    #dividimos los ejemplos en dos partes iguales, los conjuntos de entrenatmiento y el de prueba\n",
    "    np.random.seed()\n",
    "    s1 = np.random.choice(range(X.shape[0]), X.shape[0]*3//4, replace=False)\n",
    "    s2 = list(set(range(X.shape[0])) - set(s1))\n",
    "    training_X = X[s1, :]\n",
    "    training_Y = Y[s1, :]\n",
    "    test_X = X[s2, :]\n",
    "    test_Y = Y[s2, :]\n",
    "\n",
    "    combinations = []\n",
    "    errs = []\n",
    "\n",
    "    #Entrenamos con validación cruzada el modelo con todas las combinaciones de atributos de tamaño igual o mayor a 8\n",
    "    for c in column_combinations(a, b):#(len(attributes)):\n",
    "        combinations.append(c)\n",
    "        #Utilizamos la lista indexes para asegurarnos que, al escoger una columna i de la data original, \n",
    "        #la combinación incluya los j índices de las columnas dummy correspondientes\n",
    "        Xc = training_X[:,sum([indexes[i] for i in c], [])] \n",
    "\n",
    "        errs.append(cross_validation(Xc, training_Y, k))\n",
    "\n",
    "    i = errs.index(min(errs))\n",
    "    c = combinations[i]\n",
    "    ids = sum([indexes[i] for i in c], [])\n",
    "    Xc = training_X[:,ids] \n",
    "\n",
    "    w = learner(Xc, Y, len(ids))[0]\n",
    "\n",
    "    test_Xc = test_X[:,ids]\n",
    "\n",
    "    return w, c, error_rate(w, test_Xc, test_Y)\n",
    "\n",
    "def cross_validation(X, Y, k):\n",
    "    N, w_size = X.shape\n",
    "    errs = 0\n",
    "    for i in range(k):\n",
    "        vdi = range((i-1)*N//k, i*N//k)\n",
    "        tsi = list(set(range(N)) - set(vdi))\n",
    "        validation_X = X[vdi, : ]\n",
    "        validation_Y = Y[vdi, : ]\n",
    "        training_X = X[tsi, :]\n",
    "        training_Y = Y[tsi, :]\n",
    "\n",
    "        w = learner(training_X, training_Y, w_size)[0]\n",
    "\n",
    "        errs += error_rate(w, validation_X, validation_Y)\n",
    "    \n",
    "    return errs/k\n",
    "        \n",
    "\n"
   ]
  },
  {
   "cell_type": "markdown",
   "metadata": {},
   "source": [
    "Establecemos la matriz vectorial X de los ejemplos para el entrenamiento, así como el vector Y correspondiente a cada vector de atributos"
   ]
  },
  {
   "cell_type": "code",
   "execution_count": 735,
   "metadata": {},
   "outputs": [],
   "source": [
    "X = df.loc[:, df. columns != \"Price\"].to_numpy()\n",
    "Y =  df[[\"Price\"]].to_numpy()"
   ]
  },
  {
   "cell_type": "markdown",
   "metadata": {},
   "source": [
    "Seleccionamos ahora un modelo en base a la combinación de atributos con menor error cuadrático"
   ]
  },
  {
   "cell_type": "code",
   "execution_count": 740,
   "metadata": {},
   "outputs": [
    {
     "data": {
      "text/plain": [
       "(['Make',\n",
       "  'Year',\n",
       "  'Kilometer',\n",
       "  'Fuel Type',\n",
       "  'Transmission',\n",
       "  'Owner',\n",
       "  'Seating Capacity',\n",
       "  'Fuel Tank Capacity'],\n",
       " [0, 2, 3, 4, 5, 8, 15, 16],\n",
       " 0.2639165658409004)"
      ]
     },
     "execution_count": 740,
     "metadata": {},
     "output_type": "execute_result"
    }
   ],
   "source": [
    "w, c, e = model_selection(X, Y, 5, 1, 2)\n",
    "([attributes[i] for i in c], c, e)"
   ]
  },
  {
   "cell_type": "markdown",
   "metadata": {},
   "source": [
    "## Predecir el precio de venta de un automóvil"
   ]
  },
  {
   "cell_type": "code",
   "execution_count": null,
   "metadata": {},
   "outputs": [],
   "source": []
  }
 ],
 "metadata": {
  "kernelspec": {
   "display_name": "Python 3 (ipykernel)",
   "language": "python",
   "name": "python3"
  },
  "language_info": {
   "codemirror_mode": {
    "name": "ipython",
    "version": 3
   },
   "file_extension": ".py",
   "mimetype": "text/x-python",
   "name": "python",
   "nbconvert_exporter": "python",
   "pygments_lexer": "ipython3",
   "version": "3.11.3"
  }
 },
 "nbformat": 4,
 "nbformat_minor": 4
}
