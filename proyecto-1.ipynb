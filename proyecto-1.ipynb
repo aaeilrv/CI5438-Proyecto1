{
 "cells": [
  {
   "cell_type": "code",
   "execution_count": null,
   "metadata": {},
   "outputs": [],
   "source": [
    "import pandas as pd\n",
    "import numpy as np"
   ]
  },
  {
   "cell_type": "code",
   "execution_count": null,
   "metadata": {},
   "outputs": [],
   "source": [
    "# loading data\n",
    "enter_data = pd.read_csv('CarDekho.csv')\n",
    "\n",
    "# data cleaning\n",
    "data = enter_data[[\"Make\", \"Year\", \"Kilometer\", \"Fuel Type\", \"Transmission\", \"Owner\", \"Seating Capacity\", \"Fuel Tank Capacity\"]]\n",
    "data"
   ]
  },
  {
   "cell_type": "markdown",
   "metadata": {},
   "source": [
    "##Algoritmo de descenso de gradiente"
   ]
  },
  {
   "cell_type": "code",
   "execution_count": 68,
   "metadata": {},
   "outputs": [],
   "source": [
    "weights = [1, 2, 3]\n",
    "number_seeds = 1000\n",
    "learning_rate = 0.1\n",
    "\n",
    "max_iter = 1000"
   ]
  },
  {
   "cell_type": "code",
   "execution_count": 69,
   "metadata": {},
   "outputs": [],
   "source": [
    "\n",
    "# Inicialización de Parámetros\n",
    "\n",
    "np.random.seed(0)   # Para que los datos sean reproducibles\n",
    "X = np.random.rand(number_seeds, len(weights))  # X = conjunto de variables independientes\n",
    "#noise = 0.1 * np.random.randn(number_seeds)\n",
    "Y = np.dot(X, weights)  # Y = Sumatoria de (Xi * Wi)"
   ]
  },
  {
   "cell_type": "code",
   "execution_count": 71,
   "metadata": {},
   "outputs": [],
   "source": [
    "# Algoritmo de descenso de gradiente\n",
    "def gradient_descent(x, y, weights, learning_rate):\n",
    "    dldw = np.array([0.0] * len(weights))\n",
    "    N = x.shape[0] # número de filas de la matriz X\n",
    "\n",
    "    # Calculo de la derivada parcial de la función de costo (revisar esta parte)\n",
    "    for i in range(N):\n",
    "        for j in range(len(weights)):\n",
    "            dldw += x[i][j] * (y[j] - np.dot(weights, x[i]))\n",
    "\n",
    "    weights = weights + learning_rate * dldw\n",
    "    \n",
    "    return weights"
   ]
  },
  {
   "cell_type": "code",
   "execution_count": null,
   "metadata": {},
   "outputs": [],
   "source": [
    "for i in range(max_iter):\n",
    "    weights = gradient_descent(X, Y, weights, learning_rate)\n",
    "    print(weights)"
   ]
  }
 ],
 "metadata": {
  "kernelspec": {
   "display_name": "Python 3",
   "language": "python",
   "name": "python3"
  },
  "language_info": {
   "codemirror_mode": {
    "name": "ipython",
    "version": 3
   },
   "file_extension": ".py",
   "mimetype": "text/x-python",
   "name": "python",
   "nbconvert_exporter": "python",
   "pygments_lexer": "ipython3",
   "version": "3.10.8"
  }
 },
 "nbformat": 4,
 "nbformat_minor": 2
}
