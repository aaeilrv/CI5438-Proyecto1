{
 "cells": [
  {
   "cell_type": "code",
   "execution_count": 26,
   "metadata": {},
   "outputs": [],
   "source": [
    "import pandas as pd\n",
    "import numpy as np\n",
    "import matplotlib.pyplot as p\n",
    "from itertools import combinations\n",
    "import json"
   ]
  },
  {
   "cell_type": "markdown",
   "metadata": {},
   "source": [
    "## I: Implementación"
   ]
  },
  {
   "cell_type": "markdown",
   "metadata": {},
   "source": [
    "### Calculo de error cuadrático"
   ]
  },
  {
   "cell_type": "code",
   "execution_count": 27,
   "metadata": {},
   "outputs": [],
   "source": [
    "def error_rate(w, X, Y):\n",
    "    N = X.shape[0]\n",
    "    E = 0\n",
    "    for i in range(N):\n",
    "        E += (np.dot(X[i],w) - Y[i])**2\n",
    "    return E[0]/N"
   ]
  },
  {
   "cell_type": "markdown",
   "metadata": {},
   "source": [
    "### Algoritmo de descenso de gradiente"
   ]
  },
  {
   "cell_type": "code",
   "execution_count": 28,
   "metadata": {},
   "outputs": [],
   "source": [
    "# Algoritmo de descenso de gradiente\n",
    "def gradient_descent(X, Y, weights, learning_rate):\n",
    "\n",
    "    dldw = np.zeros((len(weights), 1))\n",
    "    N = X.shape[0] # número de filas de la matriz X\n",
    "\n",
    "    # Calculo de la derivada parcial de loss con respecto a cada peso\n",
    "    for i in range(N):\n",
    "        dldw += np.transpose([X[i]]) * ((Y[i] - np.dot(X[i], weights))[0])\n",
    "\n",
    "    weights = weights + learning_rate * dldw\n",
    "    \n",
    "    return weights"
   ]
  },
  {
   "cell_type": "markdown",
   "metadata": {},
   "source": [
    "### Generacion de funcion linear aleatoria de tamaño determinado"
   ]
  },
  {
   "cell_type": "code",
   "execution_count": 29,
   "metadata": {},
   "outputs": [],
   "source": [
    "# Inicialización de Parámetros\n",
    "def generate_linear_function(size):\n",
    "    random_seed = 1\n",
    "    weight_range = 100\n",
    "    x_range = 100 \n",
    "    number_seeds = 1000\n",
    "    \n",
    "    weights = np.random.choice(np.concatenate((np.arange(-weight_range, 0), np.arange(1, weight_range+1))), size=(size, 1)) #pesos a estimar\n",
    "    X0 = np.ones((number_seeds, 1)) #parametro X0 equivalente a 1 en cada vector X add \n",
    "    X1toN = np.random.randint(1, x_range+1, size=(number_seeds, size-1))  \n",
    "    X = np.concatenate((X1toN, X0), axis=1)# X = conjunto de variables independientes\n",
    "\n",
    "    #Y = X1toN*w # + w0 que no consideramos por no ser significativa\n",
    "    Y = np.dot(X,weights) \n",
    "\n",
    "    return weights, X, Y"
   ]
  },
  {
   "cell_type": "markdown",
   "metadata": {},
   "source": [
    "### Funcion de aprendizaje"
   ]
  },
  {
   "cell_type": "code",
   "execution_count": 30,
   "metadata": {},
   "outputs": [],
   "source": [
    "def learner(X, Y, size, learning_rate, max_iter, epsilon, w=[]):\n",
    "    if len(w) == 0: w = np.ones((size,1)) #pesos iniciales\n",
    "    error = []\n",
    "\n",
    "    #Iteración del algoritmo \n",
    "    for i in range(max_iter):\n",
    "        w = gradient_descent(X, Y, w, learning_rate)\n",
    "        err = error_rate(w, X, Y)\n",
    "        error.append(err)\n",
    "        if err < epsilon:\n",
    "            break\n",
    "    return w, error"
   ]
  },
  {
   "cell_type": "markdown",
   "metadata": {},
   "source": [
    "### Prueba de la funcion de aprendizaje con una funcion linear aleatoria"
   ]
  },
  {
   "cell_type": "code",
   "execution_count": 42,
   "metadata": {},
   "outputs": [
    {
     "data": {
      "image/png": "[encoded data removed]",
      "text/plain": [
       "<Figure size 640x480 with 1 Axes>"
      ]
     },
     "metadata": {},
     "output_type": "display_data"
    },
    {
     "name": "stdout",
     "output_type": "stream",
     "text": [
      "pesos reales: [[-55  87 -76 -28 -69 -57]]\n",
      "pesos estimados: [[-55.20641501  86.75577666 -76.19729835 -28.19550286 -69.21579619\n",
      "    0.42607444]]\n",
      "porcentaje de error: [[  0.37530002]\n",
      " [  0.28071648]\n",
      " [  0.2596031 ]\n",
      " [  0.69822452]\n",
      " [  0.3127481 ]\n",
      " [100.74749902]]\n"
     ]
    }
   ],
   "source": [
    "\n",
    "size = 6\n",
    "function_weights, X, Y = generate_linear_function(size) \n",
    "w, error = learner(X, Y, size, 0.00000001, 1000, 0.5)\n",
    "\n",
    "p.plot([i+1 for i in range(len(error))], error)\n",
    "p.xlabel(\"Iteraciones\")\n",
    "p.ylabel(\"Error cuadrático\")\n",
    "p.show()\n",
    "\n",
    "print(f\"pesos reales: {np.transpose(function_weights)}\")\n",
    "print(f\"pesos estimados: {np.transpose(w)}\")\n",
    "\n",
    "def porcentage_error(real, estimated):\n",
    "    return np.abs(((estimated * 100) / real) - 100)\n",
    "\n",
    "print(f\"porcentaje de error: {porcentage_error(function_weights, w)}\")"
   ]
  },
  {
   "cell_type": "markdown",
   "metadata": {},
   "source": [
    "## II: Preprocesamiento de datos"
   ]
  },
  {
   "cell_type": "code",
   "execution_count": 32,
   "metadata": {},
   "outputs": [],
   "source": [
    "# loading data\n",
    "old_df = pd.read_csv('CarDekho.csv')"
   ]
  },
  {
   "cell_type": "markdown",
   "metadata": {},
   "source": [
    "### Manejo de valores faltantes"
   ]
  },
  {
   "cell_type": "code",
   "execution_count": 33,
   "metadata": {},
   "outputs": [
    {
     "data": {
      "text/html": [
       "<div>\n",
       "<style scoped>\n",
       "    .dataframe tbody tr th:only-of-type {\n",
       "        vertical-align: middle;\n",
       "    }\n",
       "\n",
       "    .dataframe tbody tr th {\n",
       "        vertical-align: top;\n",
       "    }\n",
       "\n",
       "    .dataframe thead th {\n",
       "        text-align: right;\n",
       "    }\n",
       "</style>\n",
       "<table border=\"1\" class=\"dataframe\">\n",
       "  <thead>\n",
       "    <tr style=\"text-align: right;\">\n",
       "      <th></th>\n",
       "      <th>variable</th>\n",
       "      <th># nulos</th>\n",
       "    </tr>\n",
       "  </thead>\n",
       "  <tbody>\n",
       "    <tr>\n",
       "      <th>11</th>\n",
       "      <td>Engine</td>\n",
       "      <td>80</td>\n",
       "    </tr>\n",
       "    <tr>\n",
       "      <th>12</th>\n",
       "      <td>Max Power</td>\n",
       "      <td>80</td>\n",
       "    </tr>\n",
       "    <tr>\n",
       "      <th>13</th>\n",
       "      <td>Max Torque</td>\n",
       "      <td>80</td>\n",
       "    </tr>\n",
       "    <tr>\n",
       "      <th>14</th>\n",
       "      <td>Drivetrain</td>\n",
       "      <td>136</td>\n",
       "    </tr>\n",
       "    <tr>\n",
       "      <th>15</th>\n",
       "      <td>Length</td>\n",
       "      <td>64</td>\n",
       "    </tr>\n",
       "    <tr>\n",
       "      <th>16</th>\n",
       "      <td>Width</td>\n",
       "      <td>64</td>\n",
       "    </tr>\n",
       "    <tr>\n",
       "      <th>17</th>\n",
       "      <td>Height</td>\n",
       "      <td>64</td>\n",
       "    </tr>\n",
       "    <tr>\n",
       "      <th>18</th>\n",
       "      <td>Seating Capacity</td>\n",
       "      <td>64</td>\n",
       "    </tr>\n",
       "    <tr>\n",
       "      <th>19</th>\n",
       "      <td>Fuel Tank Capacity</td>\n",
       "      <td>113</td>\n",
       "    </tr>\n",
       "  </tbody>\n",
       "</table>\n",
       "</div>"
      ],
      "text/plain": [
       "              variable  # nulos\n",
       "11              Engine       80\n",
       "12           Max Power       80\n",
       "13          Max Torque       80\n",
       "14          Drivetrain      136\n",
       "15              Length       64\n",
       "16               Width       64\n",
       "17              Height       64\n",
       "18    Seating Capacity       64\n",
       "19  Fuel Tank Capacity      113"
      ]
     },
     "execution_count": 33,
     "metadata": {},
     "output_type": "execute_result"
    }
   ],
   "source": [
    "\n",
    "# Ver los valores nulos\n",
    "df_nulos = old_df.isnull().sum().reset_index()\n",
    "df_nulos.columns = ['variable', '# nulos']\n",
    "df_nulos = df_nulos[df_nulos['# nulos'] > 0]\n",
    "df_nulos"
   ]
  },
  {
   "cell_type": "markdown",
   "metadata": {},
   "source": [
    "De las tablas en el archivo .csv, aquellas con valores nulos son:\n",
    "* Engine\n",
    "* Max Power\n",
    "* Max Torque\n",
    "* Drivetrain\n",
    "* Length\n",
    "* Width\n",
    "* Height\n",
    "* Seaing Capacity\n",
    "* Fuel Tank Capacity\n",
    "\n",
    "En este caso, el manejo de datos faltantes se realizará de la siguiente manera:\n",
    "* **Valores numéricos:**  Se reemplazan por la mediana del atributo.\n",
    "* **Valores no numéricos:** Se reemplazan por el valor más común del atributo."
   ]
  },
  {
   "cell_type": "code",
   "execution_count": 34,
   "metadata": {},
   "outputs": [],
   "source": [
    "df = old_df\n",
    "\n",
    "# Manejo de datos faltantes para valores numéricos\n",
    "mean_length = df.loc[:, 'Length'].mean()\n",
    "mean_width = df.loc[:, 'Width'].mean()\n",
    "mean_height = df.loc[:, 'Height'].mean()\n",
    "mean_seats = df.loc[:, 'Seating Capacity'].mean()\n",
    "mean_tank = df.loc[:, 'Fuel Tank Capacity'].mean()\n",
    "\n",
    "#conversion de datos de la columna Engine a numéricos\n",
    "df['Engine'] = pd.to_numeric(df.loc[:,'Engine'].str.strip(\" cc\"), errors='coerce')\n",
    "mean_engine = df.loc[:, 'Engine'].mean()\n",
    "\n",
    "# Manejo de datos faltantes para valores categóricos\n",
    "common_drive = df.loc[:, 'Drivetrain'].value_counts().index[0]\n",
    "common_power = df.loc[:, 'Max Power'].value_counts().index[0]\n",
    "common_torque = df.loc[:, 'Max Torque'].value_counts().index[0]\n",
    "\n",
    "# Reemplazo de valores nulos\n",
    "df.loc[:, 'Length'] = df.loc[:, 'Length'].fillna(mean_length)\n",
    "df.loc[:, 'Width'] = df.loc[:, 'Width'].fillna(mean_width)\n",
    "df.loc[:, 'Height'] = df.loc[:, 'Height'].fillna(mean_height)\n",
    "df.loc[:, 'Seating Capacity'] = df.loc[:, 'Seating Capacity'].fillna(mean_seats)\n",
    "df.loc[:, 'Fuel Tank Capacity'] = df.loc[:, 'Fuel Tank Capacity'].fillna(mean_tank)\n",
    "df.loc[:, 'Drivetrain'] = df.loc[:, 'Drivetrain'].fillna(common_drive)\n",
    "df.loc[:, 'Engine'] = df.loc[:, 'Engine'].fillna(mean_engine)\n",
    "df.loc[:, 'Max Power'] = df.loc[:, 'Max Power'].fillna(common_power)\n",
    "df.loc[:, 'Max Torque'] = df.loc[:, 'Max Torque'].fillna(common_torque)"
   ]
  },
  {
   "cell_type": "markdown",
   "metadata": {},
   "source": [
    "### Normalización de los datos"
   ]
  },
  {
   "cell_type": "code",
   "execution_count": 35,
   "metadata": {},
   "outputs": [
    {
     "data": {
      "text/plain": [
       "<Axes: >"
      ]
     },
     "execution_count": 35,
     "metadata": {},
     "output_type": "execute_result"
    },
    {
     "data": {
      "image/png": "[encoded data removed]",
      "text/plain": [
       "<Figure size 640x480 with 1 Axes>"
      ]
     },
     "metadata": {},
     "output_type": "display_data"
    }
   ],
   "source": [
    "df.boxplot()"
   ]
  },
  {
   "cell_type": "markdown",
   "metadata": {},
   "source": [
    "Del boxplot, se observa que las columnas *Price* y *Kilometer* tienen valores mucho mayores que las demás variables. Por ende, se normalizan todas las columnas numéricas para que sus valores estén entre 0 y 1 y den datos más concisos."
   ]
  },
  {
   "cell_type": "code",
   "execution_count": 36,
   "metadata": {},
   "outputs": [
    {
     "data": {
      "text/plain": [
       "<Axes: >"
      ]
     },
     "execution_count": 36,
     "metadata": {},
     "output_type": "execute_result"
    },
    {
     "data": {
      "image/png": "[encoded data removed]",
      "text/plain": [
       "<Figure size 640x480 with 1 Axes>"
      ]
     },
     "metadata": {},
     "output_type": "display_data"
    }
   ],
   "source": [
    "def normalize_column(column):\n",
    "    return (column - column.min()) / (column.max() - column.min())\n",
    "\n",
    "# Normalización de datos\n",
    "df.loc[:, 'Price'] = normalize_column(df.loc[:, 'Price'])\n",
    "df.loc[:, 'Year'] = normalize_column(df.loc[:, 'Year'])\n",
    "df.loc[:, 'Kilometer'] = normalize_column(df.loc[:, 'Kilometer'])\n",
    "df.loc[:, 'Engine'] = normalize_column(df.loc[:, 'Engine'])\n",
    "df.loc[:, 'Length'] = normalize_column(df.loc[:, 'Length'])\n",
    "df.loc[:, 'Width'] = normalize_column(df.loc[:, 'Width'])\n",
    "df.loc[:, 'Height'] = normalize_column(df.loc[:, 'Height'])\n",
    "df.loc[:, 'Seating Capacity'] = normalize_column(df.loc[:, 'Seating Capacity'])\n",
    "df.loc[:, 'Fuel Tank Capacity'] = normalize_column(df.loc[:, 'Fuel Tank Capacity'])\n",
    "\n",
    "df.boxplot()"
   ]
  },
  {
   "cell_type": "markdown",
   "metadata": {},
   "source": [
    "Las columnas _Max Power_ y _Max Torque_ serán eliminadas debido a la dificultad de estandarizar estos datos como valor numérico"
   ]
  },
  {
   "cell_type": "code",
   "execution_count": 37,
   "metadata": {},
   "outputs": [],
   "source": [
    "df = df.drop('Max Power', axis=1)\n",
    "df = df.drop('Max Torque', axis=1)"
   ]
  },
  {
   "cell_type": "markdown",
   "metadata": {},
   "source": [
    "Tenemos entonces 17 atributos con los que trabajar."
   ]
  },
  {
   "cell_type": "code",
   "execution_count": 38,
   "metadata": {},
   "outputs": [
    {
     "data": {
      "text/plain": [
       "['Make',\n",
       " 'Model',\n",
       " 'Year',\n",
       " 'Kilometer',\n",
       " 'Fuel Type',\n",
       " 'Transmission',\n",
       " 'Location',\n",
       " 'Color',\n",
       " 'Owner',\n",
       " 'Seller Type',\n",
       " 'Engine',\n",
       " 'Drivetrain',\n",
       " 'Length',\n",
       " 'Width',\n",
       " 'Height',\n",
       " 'Seating Capacity',\n",
       " 'Fuel Tank Capacity']"
      ]
     },
     "execution_count": 38,
     "metadata": {},
     "output_type": "execute_result"
    }
   ],
   "source": [
    "attributes = list(df.loc[:, df.columns != \"Price\"].columns)\n",
    "attributes"
   ]
  },
  {
   "cell_type": "markdown",
   "metadata": {},
   "source": [
    "\n",
    "\n",
    "Finalmente se utiliza la función get_dummies de la librería Panda para crear nuevas $n$ columnas para cada uno de los atributos categóricos de $n$ categorías que tenemos\n",
    "\n",
    "También creamos una lista ```indexes```, que continene en cada índice $i$, los $j$ índices de las columnas dummy creadas en base a la $i$ columna de la data original, que será utilizada más adelante"
   ]
  },
  {
   "cell_type": "code",
   "execution_count": 39,
   "metadata": {},
   "outputs": [],
   "source": [
    "\n",
    "a = [ len(pd.get_dummies(df[[col]]).columns) for col in df.loc[:, df.columns != \"Price\"].columns]\n",
    "indexes = [list(range(a[0]))] + [list(range(sum(a[0:i]), sum(a[0:i]) +  a[i])) for i in range(1,len(a))]\n",
    "\n",
    "df = pd.get_dummies(df, dtype=int)"
   ]
  },
  {
   "cell_type": "markdown",
   "metadata": {},
   "source": [
    "Para mantener los valores pre-procesados guardados, creamos un nuevo csv que es con el que estaremos trabajando de aquí en adelante."
   ]
  },
  {
   "cell_type": "code",
   "execution_count": 40,
   "metadata": {},
   "outputs": [
    {
     "ename": "KeyboardInterrupt",
     "evalue": "",
     "output_type": "error",
     "traceback": [
      "\u001b[1;31m---------------------------------------------------------------------------\u001b[0m",
      "\u001b[1;31mKeyboardInterrupt\u001b[0m                         Traceback (most recent call last)",
      "\u001b[1;32mc:\\Users\\valer\\Downloads\\proyecto-1 (2).ipynb Cell 30\u001b[0m line \u001b[0;36m2\n\u001b[0;32m      <a href='vscode-notebook-cell:/c%3A/Users/valer/Downloads/proyecto-1%20%282%29.ipynb#X41sZmlsZQ%3D%3D?line=0'>1</a>\u001b[0m df\u001b[39m.\u001b[39mto_csv(\u001b[39m'\u001b[39m\u001b[39mclean_data.csv\u001b[39m\u001b[39m'\u001b[39m, index\u001b[39m=\u001b[39m\u001b[39mFalse\u001b[39;00m)\n\u001b[1;32m----> <a href='vscode-notebook-cell:/c%3A/Users/valer/Downloads/proyecto-1%20%282%29.ipynb#X41sZmlsZQ%3D%3D?line=1'>2</a>\u001b[0m df \u001b[39m=\u001b[39m pd\u001b[39m.\u001b[39;49mread_csv(\u001b[39m'\u001b[39;49m\u001b[39mclean_data.csv\u001b[39;49m\u001b[39m'\u001b[39;49m)\n",
      "File \u001b[1;32mc:\\Users\\valer\\AppData\\Local\\Programs\\Python\\Python310\\lib\\site-packages\\pandas\\util\\_decorators.py:211\u001b[0m, in \u001b[0;36mdeprecate_kwarg.<locals>._deprecate_kwarg.<locals>.wrapper\u001b[1;34m(*args, **kwargs)\u001b[0m\n\u001b[0;32m    209\u001b[0m     \u001b[39melse\u001b[39;00m:\n\u001b[0;32m    210\u001b[0m         kwargs[new_arg_name] \u001b[39m=\u001b[39m new_arg_value\n\u001b[1;32m--> 211\u001b[0m \u001b[39mreturn\u001b[39;00m func(\u001b[39m*\u001b[39margs, \u001b[39m*\u001b[39m\u001b[39m*\u001b[39mkwargs)\n",
      "File \u001b[1;32mc:\\Users\\valer\\AppData\\Local\\Programs\\Python\\Python310\\lib\\site-packages\\pandas\\util\\_decorators.py:331\u001b[0m, in \u001b[0;36mdeprecate_nonkeyword_arguments.<locals>.decorate.<locals>.wrapper\u001b[1;34m(*args, **kwargs)\u001b[0m\n\u001b[0;32m    325\u001b[0m \u001b[39mif\u001b[39;00m \u001b[39mlen\u001b[39m(args) \u001b[39m>\u001b[39m num_allow_args:\n\u001b[0;32m    326\u001b[0m     warnings\u001b[39m.\u001b[39mwarn(\n\u001b[0;32m    327\u001b[0m         msg\u001b[39m.\u001b[39mformat(arguments\u001b[39m=\u001b[39m_format_argument_list(allow_args)),\n\u001b[0;32m    328\u001b[0m         \u001b[39mFutureWarning\u001b[39;00m,\n\u001b[0;32m    329\u001b[0m         stacklevel\u001b[39m=\u001b[39mfind_stack_level(),\n\u001b[0;32m    330\u001b[0m     )\n\u001b[1;32m--> 331\u001b[0m \u001b[39mreturn\u001b[39;00m func(\u001b[39m*\u001b[39margs, \u001b[39m*\u001b[39m\u001b[39m*\u001b[39mkwargs)\n",
      "File \u001b[1;32mc:\\Users\\valer\\AppData\\Local\\Programs\\Python\\Python310\\lib\\site-packages\\pandas\\io\\parsers\\readers.py:950\u001b[0m, in \u001b[0;36mread_csv\u001b[1;34m(filepath_or_buffer, sep, delimiter, header, names, index_col, usecols, squeeze, prefix, mangle_dupe_cols, dtype, engine, converters, true_values, false_values, skipinitialspace, skiprows, skipfooter, nrows, na_values, keep_default_na, na_filter, verbose, skip_blank_lines, parse_dates, infer_datetime_format, keep_date_col, date_parser, dayfirst, cache_dates, iterator, chunksize, compression, thousands, decimal, lineterminator, quotechar, quoting, doublequote, escapechar, comment, encoding, encoding_errors, dialect, error_bad_lines, warn_bad_lines, on_bad_lines, delim_whitespace, low_memory, memory_map, float_precision, storage_options)\u001b[0m\n\u001b[0;32m    935\u001b[0m kwds_defaults \u001b[39m=\u001b[39m _refine_defaults_read(\n\u001b[0;32m    936\u001b[0m     dialect,\n\u001b[0;32m    937\u001b[0m     delimiter,\n\u001b[1;32m   (...)\u001b[0m\n\u001b[0;32m    946\u001b[0m     defaults\u001b[39m=\u001b[39m{\u001b[39m\"\u001b[39m\u001b[39mdelimiter\u001b[39m\u001b[39m\"\u001b[39m: \u001b[39m\"\u001b[39m\u001b[39m,\u001b[39m\u001b[39m\"\u001b[39m},\n\u001b[0;32m    947\u001b[0m )\n\u001b[0;32m    948\u001b[0m kwds\u001b[39m.\u001b[39mupdate(kwds_defaults)\n\u001b[1;32m--> 950\u001b[0m \u001b[39mreturn\u001b[39;00m _read(filepath_or_buffer, kwds)\n",
      "File \u001b[1;32mc:\\Users\\valer\\AppData\\Local\\Programs\\Python\\Python310\\lib\\site-packages\\pandas\\io\\parsers\\readers.py:611\u001b[0m, in \u001b[0;36m_read\u001b[1;34m(filepath_or_buffer, kwds)\u001b[0m\n\u001b[0;32m    608\u001b[0m     \u001b[39mreturn\u001b[39;00m parser\n\u001b[0;32m    610\u001b[0m \u001b[39mwith\u001b[39;00m parser:\n\u001b[1;32m--> 611\u001b[0m     \u001b[39mreturn\u001b[39;00m parser\u001b[39m.\u001b[39;49mread(nrows)\n",
      "File \u001b[1;32mc:\\Users\\valer\\AppData\\Local\\Programs\\Python\\Python310\\lib\\site-packages\\pandas\\io\\parsers\\readers.py:1795\u001b[0m, in \u001b[0;36mTextFileReader.read\u001b[1;34m(self, nrows)\u001b[0m\n\u001b[0;32m   1792\u001b[0m     \u001b[39melse\u001b[39;00m:\n\u001b[0;32m   1793\u001b[0m         new_rows \u001b[39m=\u001b[39m \u001b[39mlen\u001b[39m(index)\n\u001b[1;32m-> 1795\u001b[0m     df \u001b[39m=\u001b[39m DataFrame(col_dict, columns\u001b[39m=\u001b[39;49mcolumns, index\u001b[39m=\u001b[39;49mindex)\n\u001b[0;32m   1797\u001b[0m     \u001b[39mself\u001b[39m\u001b[39m.\u001b[39m_currow \u001b[39m+\u001b[39m\u001b[39m=\u001b[39m new_rows\n\u001b[0;32m   1799\u001b[0m \u001b[39mif\u001b[39;00m \u001b[39mself\u001b[39m\u001b[39m.\u001b[39msqueeze \u001b[39mand\u001b[39;00m \u001b[39mlen\u001b[39m(df\u001b[39m.\u001b[39mcolumns) \u001b[39m==\u001b[39m \u001b[39m1\u001b[39m:\n",
      "File \u001b[1;32mc:\\Users\\valer\\AppData\\Local\\Programs\\Python\\Python310\\lib\\site-packages\\pandas\\core\\frame.py:664\u001b[0m, in \u001b[0;36mDataFrame.__init__\u001b[1;34m(self, data, index, columns, dtype, copy)\u001b[0m\n\u001b[0;32m    658\u001b[0m     mgr \u001b[39m=\u001b[39m \u001b[39mself\u001b[39m\u001b[39m.\u001b[39m_init_mgr(\n\u001b[0;32m    659\u001b[0m         data, axes\u001b[39m=\u001b[39m{\u001b[39m\"\u001b[39m\u001b[39mindex\u001b[39m\u001b[39m\"\u001b[39m: index, \u001b[39m\"\u001b[39m\u001b[39mcolumns\u001b[39m\u001b[39m\"\u001b[39m: columns}, dtype\u001b[39m=\u001b[39mdtype, copy\u001b[39m=\u001b[39mcopy\n\u001b[0;32m    660\u001b[0m     )\n\u001b[0;32m    662\u001b[0m \u001b[39melif\u001b[39;00m \u001b[39misinstance\u001b[39m(data, \u001b[39mdict\u001b[39m):\n\u001b[0;32m    663\u001b[0m     \u001b[39m# GH#38939 de facto copy defaults to False only in non-dict cases\u001b[39;00m\n\u001b[1;32m--> 664\u001b[0m     mgr \u001b[39m=\u001b[39m dict_to_mgr(data, index, columns, dtype\u001b[39m=\u001b[39;49mdtype, copy\u001b[39m=\u001b[39;49mcopy, typ\u001b[39m=\u001b[39;49mmanager)\n\u001b[0;32m    665\u001b[0m \u001b[39melif\u001b[39;00m \u001b[39misinstance\u001b[39m(data, ma\u001b[39m.\u001b[39mMaskedArray):\n\u001b[0;32m    666\u001b[0m     \u001b[39mimport\u001b[39;00m \u001b[39mnumpy\u001b[39;00m\u001b[39m.\u001b[39;00m\u001b[39mma\u001b[39;00m\u001b[39m.\u001b[39;00m\u001b[39mmrecords\u001b[39;00m \u001b[39mas\u001b[39;00m \u001b[39mmrecords\u001b[39;00m\n",
      "File \u001b[1;32mc:\\Users\\valer\\AppData\\Local\\Programs\\Python\\Python310\\lib\\site-packages\\pandas\\core\\internals\\construction.py:493\u001b[0m, in \u001b[0;36mdict_to_mgr\u001b[1;34m(data, index, columns, dtype, typ, copy)\u001b[0m\n\u001b[0;32m    489\u001b[0m     \u001b[39melse\u001b[39;00m:\n\u001b[0;32m    490\u001b[0m         \u001b[39m# dtype check to exclude e.g. range objects, scalars\u001b[39;00m\n\u001b[0;32m    491\u001b[0m         arrays \u001b[39m=\u001b[39m [x\u001b[39m.\u001b[39mcopy() \u001b[39mif\u001b[39;00m \u001b[39mhasattr\u001b[39m(x, \u001b[39m\"\u001b[39m\u001b[39mdtype\u001b[39m\u001b[39m\"\u001b[39m) \u001b[39melse\u001b[39;00m x \u001b[39mfor\u001b[39;00m x \u001b[39min\u001b[39;00m arrays]\n\u001b[1;32m--> 493\u001b[0m \u001b[39mreturn\u001b[39;00m arrays_to_mgr(arrays, columns, index, dtype\u001b[39m=\u001b[39;49mdtype, typ\u001b[39m=\u001b[39;49mtyp, consolidate\u001b[39m=\u001b[39;49mcopy)\n",
      "File \u001b[1;32mc:\\Users\\valer\\AppData\\Local\\Programs\\Python\\Python310\\lib\\site-packages\\pandas\\core\\internals\\construction.py:154\u001b[0m, in \u001b[0;36marrays_to_mgr\u001b[1;34m(arrays, columns, index, dtype, verify_integrity, typ, consolidate)\u001b[0m\n\u001b[0;32m    151\u001b[0m axes \u001b[39m=\u001b[39m [columns, index]\n\u001b[0;32m    153\u001b[0m \u001b[39mif\u001b[39;00m typ \u001b[39m==\u001b[39m \u001b[39m\"\u001b[39m\u001b[39mblock\u001b[39m\u001b[39m\"\u001b[39m:\n\u001b[1;32m--> 154\u001b[0m     \u001b[39mreturn\u001b[39;00m create_block_manager_from_column_arrays(\n\u001b[0;32m    155\u001b[0m         arrays, axes, consolidate\u001b[39m=\u001b[39;49mconsolidate\n\u001b[0;32m    156\u001b[0m     )\n\u001b[0;32m    157\u001b[0m \u001b[39melif\u001b[39;00m typ \u001b[39m==\u001b[39m \u001b[39m\"\u001b[39m\u001b[39marray\u001b[39m\u001b[39m\"\u001b[39m:\n\u001b[0;32m    158\u001b[0m     \u001b[39mreturn\u001b[39;00m ArrayManager(arrays, [index, columns])\n",
      "File \u001b[1;32mc:\\Users\\valer\\AppData\\Local\\Programs\\Python\\Python310\\lib\\site-packages\\pandas\\core\\internals\\managers.py:2199\u001b[0m, in \u001b[0;36mcreate_block_manager_from_column_arrays\u001b[1;34m(arrays, axes, consolidate)\u001b[0m\n\u001b[0;32m   2182\u001b[0m \u001b[39mdef\u001b[39;00m \u001b[39mcreate_block_manager_from_column_arrays\u001b[39m(\n\u001b[0;32m   2183\u001b[0m     arrays: \u001b[39mlist\u001b[39m[ArrayLike],\n\u001b[0;32m   2184\u001b[0m     axes: \u001b[39mlist\u001b[39m[Index],\n\u001b[1;32m   (...)\u001b[0m\n\u001b[0;32m   2195\u001b[0m     \u001b[39m# These last three are sufficient to allow us to safely pass\u001b[39;00m\n\u001b[0;32m   2196\u001b[0m     \u001b[39m#  verify_integrity=False below.\u001b[39;00m\n\u001b[0;32m   2198\u001b[0m     \u001b[39mtry\u001b[39;00m:\n\u001b[1;32m-> 2199\u001b[0m         blocks \u001b[39m=\u001b[39m _form_blocks(arrays, consolidate)\n\u001b[0;32m   2200\u001b[0m         mgr \u001b[39m=\u001b[39m BlockManager(blocks, axes, verify_integrity\u001b[39m=\u001b[39m\u001b[39mFalse\u001b[39;00m)\n\u001b[0;32m   2201\u001b[0m     \u001b[39mexcept\u001b[39;00m \u001b[39mValueError\u001b[39;00m \u001b[39mas\u001b[39;00m e:\n",
      "File \u001b[1;32mc:\\Users\\valer\\AppData\\Local\\Programs\\Python\\Python310\\lib\\site-packages\\pandas\\core\\internals\\managers.py:2273\u001b[0m, in \u001b[0;36m_form_blocks\u001b[1;34m(arrays, consolidate)\u001b[0m\n\u001b[0;32m   2270\u001b[0m \u001b[39mif\u001b[39;00m \u001b[39missubclass\u001b[39m(dtype\u001b[39m.\u001b[39mtype, (\u001b[39mstr\u001b[39m, \u001b[39mbytes\u001b[39m)):\n\u001b[0;32m   2271\u001b[0m     dtype \u001b[39m=\u001b[39m np\u001b[39m.\u001b[39mdtype(\u001b[39mobject\u001b[39m)\n\u001b[1;32m-> 2273\u001b[0m values, placement \u001b[39m=\u001b[39m _stack_arrays(\u001b[39mlist\u001b[39;49m(tup_block), dtype)\n\u001b[0;32m   2274\u001b[0m \u001b[39mif\u001b[39;00m is_dtlike:\n\u001b[0;32m   2275\u001b[0m     values \u001b[39m=\u001b[39m ensure_wrapped_if_datetimelike(values)\n",
      "File \u001b[1;32mc:\\Users\\valer\\AppData\\Local\\Programs\\Python\\Python310\\lib\\site-packages\\pandas\\core\\internals\\managers.py:2314\u001b[0m, in \u001b[0;36m_stack_arrays\u001b[1;34m(tuples, dtype)\u001b[0m\n\u001b[0;32m   2312\u001b[0m stacked \u001b[39m=\u001b[39m np\u001b[39m.\u001b[39mempty(shape, dtype\u001b[39m=\u001b[39mdtype)\n\u001b[0;32m   2313\u001b[0m \u001b[39mfor\u001b[39;00m i, arr \u001b[39min\u001b[39;00m \u001b[39menumerate\u001b[39m(arrays):\n\u001b[1;32m-> 2314\u001b[0m     stacked[i] \u001b[39m=\u001b[39m arr\n\u001b[0;32m   2316\u001b[0m \u001b[39mreturn\u001b[39;00m stacked, placement\n",
      "\u001b[1;31mKeyboardInterrupt\u001b[0m: "
     ]
    }
   ],
   "source": [
    "df.to_csv('clean_data.csv', index=False)\n",
    "df = pd.read_csv('clean_data.csv')"
   ]
  },
  {
   "cell_type": "markdown",
   "metadata": {},
   "source": [
    "## III: Entrenamiento del modelo"
   ]
  },
  {
   "cell_type": "markdown",
   "metadata": {},
   "source": [
    "### Seleccion de columnas\n",
    "\n",
    "La selección de columnas a utilizar en los vectores de ejemplo para el el entrenamiento del modelo será mediante un hiperparámetro que definirá las columnas a utilizar. Para esto calcularemos las combinaciones posibles de columnas, tal que no se permuten y se mantenga el orden relativo entre ellas. Luego generamos un modelo para cada una, y escogemos la combinación con el menor error cuadrático estimado\n",
    "\n",
    "Por cuestiones de tiempo, y puesto que es muy probable que con significativamente menos atributos el modelo esté subajustado, solo se considerarán las combinaciones de tamaño 8 y 9. Las combinaciones son guardadas en un archivo para eliminar el tiempo de computación de estas durante la selección del modelo"
   ]
  },
  {
   "cell_type": "code",
   "execution_count": null,
   "metadata": {},
   "outputs": [],
   "source": [
    "for c_size in range(8,9):\n",
    "    cs = []\n",
    "    for c in (list(c) for c in combinations(range(len(attributes)), c_size)):\n",
    "        cs.append(c)\n",
    "    f = open(f\"c{str(c_size)}.txt\", \"w\")\n",
    "    f.write(str(cs))\n",
    "    f.close()"
   ]
  },
  {
   "cell_type": "markdown",
   "metadata": {},
   "source": [
    "Definimos ahora las funciones para validación cruzada y selección de modelo. Se toman como hiperparámetros la cantidad $k$ de subconjutos de partición para la validación cruzada, el archivo de combinaciones a leer y dos indices ($a$, $b$) de la lista de combinaciones, para probar combinaciones solo en ese intervalo"
   ]
  },
  {
   "cell_type": "code",
   "execution_count": null,
   "metadata": {},
   "outputs": [],
   "source": [
    "\n",
    "def model_selection(X, Y, k, learning_rate, max_iter, epsilon, txt, a, b):\n",
    "    #dividimos los ejemplos en dos partes, los conjuntos de entrenatmiento y el de prueba\n",
    "    np.random.seed()\n",
    "    s1 = np.random.choice(range(X.shape[0]), X.shape[0]*3//4, replace=False)\n",
    "    s2 = list(set(range(X.shape[0])) - set(s1))\n",
    "    training_X = X[s1, :]\n",
    "    training_Y = Y[s1, :]\n",
    "    test_X = X[s2, :]\n",
    "    test_Y = Y[s2, :]\n",
    "\n",
    "    combinations = []\n",
    "    errs = []\n",
    "\n",
    "    #Entrenamos con validación cruzada el modelo con un subconjunto de combinaciones dado\n",
    "    f = open(txt, \"r\")\n",
    "    column_combinations = json.loads(f.readline())[a:b]\n",
    "    f.close()\n",
    "    for c in column_combinations:\n",
    "        combinations.append(c)\n",
    "        #Utilizamos la lista indexes para asegurarnos que, al escoger una columna i de la data original, \n",
    "        #la combinación incluya los j índices de las columnas dummy correspondientes\n",
    "        Xc = training_X[:,sum([indexes[i] for i in c], [])] \n",
    "\n",
    "        errs.append(cross_validation(Xc, training_Y, k, learning_rate, max_iter, epsilon))\n",
    "\n",
    "    i = errs.index(min(errs))\n",
    "    c = combinations[i]\n",
    "    ids = sum([indexes[i] for i in c], [])\n",
    "    Xc = training_X[:,ids] \n",
    "\n",
    "    w = learner(Xc, Y, len(ids), learning_rate, max_iter, epsilon)[0]\n",
    "\n",
    "    test_Xc = test_X[:,ids]\n",
    "\n",
    "    return w, c, error_rate(w, test_Xc, test_Y)\n",
    "\n",
    "def cross_validation(X, Y, k,learning_rate, max_iter, epsilon):\n",
    "    N, w_size = X.shape\n",
    "    errs = 0\n",
    "    for i in range(k):\n",
    "        vdi = range((i-1)*N//k, i*N//k)\n",
    "        tsi = list(set(range(N)) - set(vdi))\n",
    "        validation_X = X[vdi, : ]\n",
    "        validation_Y = Y[vdi, : ]\n",
    "        training_X = X[tsi, :]\n",
    "        training_Y = Y[tsi, :]\n",
    "\n",
    "        w = learner(training_X, training_Y, w_size, learning_rate, max_iter, epsilon)[0]\n",
    "\n",
    "        errs += error_rate(w, validation_X, validation_Y)\n",
    "    \n",
    "    return errs/k\n",
    "        \n",
    "\n"
   ]
  },
  {
   "cell_type": "markdown",
   "metadata": {},
   "source": [
    "Establecemos la matriz vectorial X de los ejemplos para el entrenamiento, así como el vector Y correspondiente a cada vector de atributos"
   ]
  },
  {
   "cell_type": "code",
   "execution_count": null,
   "metadata": {},
   "outputs": [],
   "source": [
    "X = df.loc[:, df. columns != \"Price\"].to_numpy()\n",
    "Y =  df[[\"Price\"]].to_numpy()"
   ]
  },
  {
   "cell_type": "markdown",
   "metadata": {},
   "source": [
    "Iteramos ahora sobre las combinaciones de parámetros para seleccionar la combinación con menor error cuadrático estimado.\n",
    "\n",
    "Se probaron los intervalos [0,1079] U [2500,3120] en c8.txt y [0,2249] U [19540,19640] en c9.txt, con parámetros de aprendizaje que minimizaran el tiempo de corrida (numero de iteraciones y tasa de aprendizaje), para probar la mayor cantidad posible de combinaciones."
   ]
  },
  {
   "cell_type": "code",
   "execution_count": null,
   "metadata": {},
   "outputs": [
    {
     "ename": "FileNotFoundError",
     "evalue": "[Errno 2] No such file or directory: 'c9.txt'",
     "output_type": "error",
     "traceback": [
      "\u001b[1;31m---------------------------------------------------------------------------\u001b[0m",
      "\u001b[1;31mFileNotFoundError\u001b[0m                         Traceback (most recent call last)",
      "\u001b[1;32mc:\\Users\\valer\\Downloads\\proyecto-1 (2).ipynb Cell 39\u001b[0m line \u001b[0;36m1\n\u001b[1;32m----> <a href='vscode-notebook-cell:/c%3A/Users/valer/Downloads/proyecto-1%20%282%29.ipynb#X53sZmlsZQ%3D%3D?line=0'>1</a>\u001b[0m model_selection(X, Y, \u001b[39m5\u001b[39;49m, \u001b[39m0.000002\u001b[39;49m, \u001b[39m500\u001b[39;49m, \u001b[39m0.15\u001b[39;49m, \u001b[39m\"\u001b[39;49m\u001b[39mc9.txt\u001b[39;49m\u001b[39m\"\u001b[39;49m, \u001b[39m3453\u001b[39;49m,\u001b[39m3454\u001b[39;49m)\n",
      "\u001b[1;32mc:\\Users\\valer\\Downloads\\proyecto-1 (2).ipynb Cell 39\u001b[0m line \u001b[0;36m1\n\u001b[0;32m     <a href='vscode-notebook-cell:/c%3A/Users/valer/Downloads/proyecto-1%20%282%29.ipynb#X53sZmlsZQ%3D%3D?line=11'>12</a>\u001b[0m errs \u001b[39m=\u001b[39m []\n\u001b[0;32m     <a href='vscode-notebook-cell:/c%3A/Users/valer/Downloads/proyecto-1%20%282%29.ipynb#X53sZmlsZQ%3D%3D?line=13'>14</a>\u001b[0m \u001b[39m#Entrenamos con validación cruzada el modelo con un subconjunto de combinaciones dado\u001b[39;00m\n\u001b[1;32m---> <a href='vscode-notebook-cell:/c%3A/Users/valer/Downloads/proyecto-1%20%282%29.ipynb#X53sZmlsZQ%3D%3D?line=14'>15</a>\u001b[0m f \u001b[39m=\u001b[39m \u001b[39mopen\u001b[39;49m(txt, \u001b[39m\"\u001b[39;49m\u001b[39mr\u001b[39;49m\u001b[39m\"\u001b[39;49m)\n\u001b[0;32m     <a href='vscode-notebook-cell:/c%3A/Users/valer/Downloads/proyecto-1%20%282%29.ipynb#X53sZmlsZQ%3D%3D?line=15'>16</a>\u001b[0m column_combinations \u001b[39m=\u001b[39m json\u001b[39m.\u001b[39mloads(f\u001b[39m.\u001b[39mreadline())[a:b]\n\u001b[0;32m     <a href='vscode-notebook-cell:/c%3A/Users/valer/Downloads/proyecto-1%20%282%29.ipynb#X53sZmlsZQ%3D%3D?line=16'>17</a>\u001b[0m f\u001b[39m.\u001b[39mclose()\n",
      "File \u001b[1;32m~\\AppData\\Roaming\\Python\\Python310\\site-packages\\IPython\\core\\interactiveshell.py:282\u001b[0m, in \u001b[0;36m_modified_open\u001b[1;34m(file, *args, **kwargs)\u001b[0m\n\u001b[0;32m    275\u001b[0m \u001b[39mif\u001b[39;00m file \u001b[39min\u001b[39;00m {\u001b[39m0\u001b[39m, \u001b[39m1\u001b[39m, \u001b[39m2\u001b[39m}:\n\u001b[0;32m    276\u001b[0m     \u001b[39mraise\u001b[39;00m \u001b[39mValueError\u001b[39;00m(\n\u001b[0;32m    277\u001b[0m         \u001b[39mf\u001b[39m\u001b[39m\"\u001b[39m\u001b[39mIPython won\u001b[39m\u001b[39m'\u001b[39m\u001b[39mt let you open fd=\u001b[39m\u001b[39m{\u001b[39;00mfile\u001b[39m}\u001b[39;00m\u001b[39m by default \u001b[39m\u001b[39m\"\u001b[39m\n\u001b[0;32m    278\u001b[0m         \u001b[39m\"\u001b[39m\u001b[39mas it is likely to crash IPython. If you know what you are doing, \u001b[39m\u001b[39m\"\u001b[39m\n\u001b[0;32m    279\u001b[0m         \u001b[39m\"\u001b[39m\u001b[39myou can use builtins\u001b[39m\u001b[39m'\u001b[39m\u001b[39m open.\u001b[39m\u001b[39m\"\u001b[39m\n\u001b[0;32m    280\u001b[0m     )\n\u001b[1;32m--> 282\u001b[0m \u001b[39mreturn\u001b[39;00m io_open(file, \u001b[39m*\u001b[39margs, \u001b[39m*\u001b[39m\u001b[39m*\u001b[39mkwargs)\n",
      "\u001b[1;31mFileNotFoundError\u001b[0m: [Errno 2] No such file or directory: 'c9.txt'"
     ]
    }
   ],
   "source": [
    "model_selection(X, Y, 5, 0.000002, 500, 0.15, \"c9.txt\", 3453,3454)"
   ]
  },
  {
   "cell_type": "markdown",
   "metadata": {},
   "source": [
    " Luego, de las mejores combinaciones encontradas, guardadas en el archivo best.txt, se probó nuevamente utilizando parámetros de aprendizaje mas estrictos. De ahi escogemos la combinación final de columnas a utilizar"
   ]
  },
  {
   "cell_type": "code",
   "execution_count": null,
   "metadata": {},
   "outputs": [
    {
     "data": {
      "text/plain": [
       "(['Make',\n",
       "  'Model',\n",
       "  'Year',\n",
       "  'Kilometer',\n",
       "  'Fuel Type',\n",
       "  'Transmission',\n",
       "  'Drivetrain',\n",
       "  'Width',\n",
       "  'Seating Capacity'],\n",
       " 0.12446431685138888)"
      ]
     },
     "execution_count": 857,
     "metadata": {},
     "output_type": "execute_result"
    }
   ],
   "source": [
    "w, c, e = model_selection(X, Y, 5, 0.0000005, 2000, 0.15,  \"best.txt\", None,None)\n",
    "([attributes[i] for i in c], e)"
   ]
  },
  {
   "cell_type": "markdown",
   "metadata": {},
   "source": [
    "Entrenamos ahora al modelo"
   ]
  },
  {
   "cell_type": "code",
   "execution_count": null,
   "metadata": {},
   "outputs": [],
   "source": [
    "columns = [attributes.index(i) for i in ['Make',\n",
    "  'Model',\n",
    "  'Year',\n",
    "  'Kilometer',\n",
    "  'Fuel Type',\n",
    "  'Transmission',\n",
    "  'Drivetrain',\n",
    "  'Width',\n",
    "  'Seating Capacity']]\n",
    "\n",
    "ids = sum([indexes[i] for i in columns], [])\n",
    "\n",
    "Xc = X[:,ids] \n",
    "w, err = learner(Xc, Y, len(ids), 0.0000013, 160000, 0.005)"
   ]
  },
  {
   "cell_type": "markdown",
   "metadata": {},
   "source": [
    "Guardamos los resultados en ```w.txt```"
   ]
  },
  {
   "cell_type": "code",
   "execution_count": null,
   "metadata": {},
   "outputs": [],
   "source": [
    "wtxt = open(\"w.txt\", \"w\")\n",
    "wtxt.write(str(np.concatenate(w).tolist()))\n",
    "wtxt.close()"
   ]
  }
 ],
 "metadata": {
  "kernelspec": {
   "display_name": "Python 3 (ipykernel)",
   "language": "python",
   "name": "python3"
  },
  "language_info": {
   "codemirror_mode": {
    "name": "ipython",
    "version": 3
   },
   "file_extension": ".py",
   "mimetype": "text/x-python",
   "name": "python",
   "nbconvert_exporter": "python",
   "pygments_lexer": "ipython3",
   "version": "3.10.8"
  }
 },
 "nbformat": 4,
 "nbformat_minor": 4
}
